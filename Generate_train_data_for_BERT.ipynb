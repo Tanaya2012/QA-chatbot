{
  "cells": [
    {
      "cell_type": "markdown",
      "metadata": {
        "id": "view-in-github",
        "colab_type": "text"
      },
      "source": [
        "<a href=\"https://colab.research.google.com/github/Tanaya2012/QA-chatbot/blob/main/Generate_train_data_for_BERT.ipynb\" target=\"_parent\"><img src=\"https://colab.research.google.com/assets/colab-badge.svg\" alt=\"Open In Colab\"/></a>"
      ]
    },
    {
      "cell_type": "markdown",
      "source": [
        "# Data generation for BERT training"
      ],
      "metadata": {
        "id": "G2bTng5xM2LD"
      }
    },
    {
      "cell_type": "markdown",
      "source": [
        "This notebook demonstrates the process of creating a dataframe for fine-tuning BERT using existing text from PDF documents. The notebook outlines the steps to extract the necessary information, including questions, answers, and context, from the PDF documents. The extracted data is then structured and organized into a dataframe, which can be used as input for fine-tuning the BERT model for specific natural language processing tasks."
      ],
      "metadata": {
        "id": "PUlfg29xKLW1"
      }
    },
    {
      "cell_type": "code",
      "execution_count": null,
      "metadata": {
        "colab": {
          "base_uri": "https://localhost:8080/"
        },
        "id": "5gB0S1Kq8AhY",
        "outputId": "d3938a2a-bd1e-48c6-8d2d-7f79970e6af9"
      },
      "outputs": [
        {
          "name": "stdout",
          "output_type": "stream",
          "text": [
            "Looking in indexes: https://pypi.org/simple, https://us-python.pkg.dev/colab-wheels/public/simple/\n",
            "Requirement already satisfied: pip in /usr/local/lib/python3.10/dist-packages (23.1.2)\n"
          ]
        }
      ],
      "source": [
        "!pip install --upgrade pip"
      ]
    },
    {
      "cell_type": "code",
      "execution_count": null,
      "metadata": {
        "colab": {
          "base_uri": "https://localhost:8080/"
        },
        "id": "nKHFieqc8DRp",
        "outputId": "a23c2026-3e34-40d1-e0f7-11ed1bd8357d"
      },
      "outputs": [
        {
          "name": "stdout",
          "output_type": "stream",
          "text": [
            "Looking in indexes: https://pypi.org/simple, https://us-python.pkg.dev/colab-wheels/public/simple/\n",
            "Requirement already satisfied: sentencepiece in /usr/local/lib/python3.10/dist-packages (0.1.99)\n"
          ]
        }
      ],
      "source": [
        "!pip install sentencepiece"
      ]
    },
    {
      "cell_type": "code",
      "execution_count": null,
      "metadata": {
        "colab": {
          "base_uri": "https://localhost:8080/"
        },
        "id": "3B3_i5mD7GBc",
        "outputId": "33cdaab2-1cfa-46dd-de52-394e2ae9fb75"
      },
      "outputs": [
        {
          "name": "stdout",
          "output_type": "stream",
          "text": [
            "Looking in indexes: https://pypi.org/simple, https://us-python.pkg.dev/colab-wheels/public/simple/\n",
            "Requirement already satisfied: transformers in /usr/local/lib/python3.10/dist-packages (4.29.2)\n",
            "Requirement already satisfied: filelock in /usr/local/lib/python3.10/dist-packages (from transformers) (3.12.0)\n",
            "Requirement already satisfied: huggingface-hub<1.0,>=0.14.1 in /usr/local/lib/python3.10/dist-packages (from transformers) (0.15.1)\n",
            "Requirement already satisfied: numpy>=1.17 in /usr/local/lib/python3.10/dist-packages (from transformers) (1.22.4)\n",
            "Requirement already satisfied: packaging>=20.0 in /usr/local/lib/python3.10/dist-packages (from transformers) (23.1)\n",
            "Requirement already satisfied: pyyaml>=5.1 in /usr/local/lib/python3.10/dist-packages (from transformers) (6.0)\n",
            "Requirement already satisfied: regex!=2019.12.17 in /usr/local/lib/python3.10/dist-packages (from transformers) (2022.10.31)\n",
            "Requirement already satisfied: requests in /usr/local/lib/python3.10/dist-packages (from transformers) (2.27.1)\n",
            "Requirement already satisfied: tokenizers!=0.11.3,<0.14,>=0.11.1 in /usr/local/lib/python3.10/dist-packages (from transformers) (0.13.3)\n",
            "Requirement already satisfied: tqdm>=4.27 in /usr/local/lib/python3.10/dist-packages (from transformers) (4.65.0)\n",
            "Requirement already satisfied: fsspec in /usr/local/lib/python3.10/dist-packages (from huggingface-hub<1.0,>=0.14.1->transformers) (2023.4.0)\n",
            "Requirement already satisfied: typing-extensions>=3.7.4.3 in /usr/local/lib/python3.10/dist-packages (from huggingface-hub<1.0,>=0.14.1->transformers) (4.5.0)\n",
            "Requirement already satisfied: urllib3<1.27,>=1.21.1 in /usr/local/lib/python3.10/dist-packages (from requests->transformers) (1.26.15)\n",
            "Requirement already satisfied: certifi>=2017.4.17 in /usr/local/lib/python3.10/dist-packages (from requests->transformers) (2022.12.7)\n",
            "Requirement already satisfied: charset-normalizer~=2.0.0 in /usr/local/lib/python3.10/dist-packages (from requests->transformers) (2.0.12)\n",
            "Requirement already satisfied: idna<4,>=2.5 in /usr/local/lib/python3.10/dist-packages (from requests->transformers) (3.4)\n"
          ]
        }
      ],
      "source": [
        "import locale\n",
        "def getpreferredencoding(do_setlocale = True):\n",
        "    return \"UTF-8\"\n",
        "locale.getpreferredencoding = getpreferredencoding\n",
        "!pip install transformers"
      ]
    },
    {
      "cell_type": "code",
      "execution_count": null,
      "metadata": {
        "colab": {
          "base_uri": "https://localhost:8080/"
        },
        "id": "O0jfEO1l6Lx-",
        "outputId": "d12e4b35-a1b1-4e15-e183-edab557a5676"
      },
      "outputs": [
        {
          "name": "stdout",
          "output_type": "stream",
          "text": [
            "/usr/lib/python3.10/runpy.py:126: RuntimeWarning: 'nltk.downloader' found in sys.modules after import of package 'nltk', but prior to execution of 'nltk.downloader'; this may result in unpredictable behaviour\n",
            "  warn(RuntimeWarning(msg))\n",
            "[nltk_data] Downloading package punkt to /root/nltk_data...\n",
            "[nltk_data]   Package punkt is already up-to-date!\n"
          ]
        }
      ],
      "source": [
        "!python -m nltk.downloader punkt"
      ]
    },
    {
      "cell_type": "code",
      "execution_count": null,
      "metadata": {
        "colab": {
          "base_uri": "https://localhost:8080/"
        },
        "id": "Fhw78Ba-7HYd",
        "outputId": "004b342f-ddea-4a02-f06b-fb5af54f4933"
      },
      "outputs": [
        {
          "name": "stdout",
          "output_type": "stream",
          "text": [
            "Cloning into 'question_generation'...\n",
            "remote: Enumerating objects: 268, done.\u001b[K\n",
            "remote: Total 268 (delta 0), reused 0 (delta 0), pack-reused 268\u001b[K\n",
            "Receiving objects: 100% (268/268), 299.04 KiB | 9.06 MiB/s, done.\n",
            "Resolving deltas: 100% (140/140), done.\n"
          ]
        }
      ],
      "source": [
        "!git clone https://github.com/patil-suraj/question_generation.git"
      ]
    },
    {
      "cell_type": "code",
      "execution_count": null,
      "metadata": {
        "colab": {
          "base_uri": "https://localhost:8080/"
        },
        "id": "dphdQhOO7nQ0",
        "outputId": "7ea55cab-7592-4f45-9b7d-8e17a0040574"
      },
      "outputs": [
        {
          "name": "stdout",
          "output_type": "stream",
          "text": [
            "/content/question_generation/question_generation/question_generation/question_generation/question_generation\n"
          ]
        }
      ],
      "source": [
        "%cd question_generation"
      ]
    },
    {
      "cell_type": "markdown",
      "source": [
        "## Importing necessary data and Libraries"
      ],
      "metadata": {
        "id": "WliYw6qWKgyv"
      }
    },
    {
      "cell_type": "code",
      "execution_count": null,
      "metadata": {
        "id": "87r0ievCDvc8"
      },
      "outputs": [],
      "source": [
        "from pathlib import Path\n",
        "pdf_text = Path('/content/drive/MyDrive/cleaned_sentences.txt').read_text()\n",
        "cleaned_sentences_with_stopwords = pdf_text.split('\\n')\n",
        "clean_text = pdf_text.replace('/n', ' ')"
      ]
    },
    {
      "cell_type": "markdown",
      "source": [
        "## Model\n"
      ],
      "metadata": {
        "id": "wyevKQuLLLT7"
      }
    },
    {
      "cell_type": "markdown",
      "source": [
        "The given code snippet utilizes the `pipelines` library to import a pre-trained question generation model. It also imports the `pandas` library for data manipulation. The code creates an empty list called `questions_dataset` to store the generated questions. \n",
        "\n",
        "The code then iterates through each sentence in the `cleaned_sentences_with_stopwords` list. If the sentence is not empty, it generates questions for that sentence using the pre-trained question generation model. The generated questions are stored in a DataFrame called `df_sentence`, with an additional column containing the original sentence. \n",
        "\n",
        "Each `df_sentence` DataFrame is appended to the `questions_dataset` list. Finally, the code concatenates all the DataFrames in the `questions_dataset` list into a single DataFrame called `df_bert_training`. This DataFrame can be used as a training dataset for fine-tuning a BERT model for question generation tasks."
      ],
      "metadata": {
        "id": "Vag_7t2DKnIM"
      }
    },
    {
      "cell_type": "code",
      "execution_count": null,
      "metadata": {
        "id": "oxOWH_Pq7pYc"
      },
      "outputs": [],
      "source": [
        "from pipelines import pipeline\n",
        "import pandas as pd\n",
        "nlp = pipeline(\"question-generation\", model=\"valhalla/t5-small-qg-prepend\", qg_format=\"prepend\")"
      ]
    },
    {
      "cell_type": "code",
      "execution_count": null,
      "metadata": {
        "colab": {
          "background_save": true
        },
        "id": "3Vm7TTzGGKqg",
        "outputId": "c0da4269-a2ee-44c4-af7e-3468a9489dde"
      },
      "outputs": [
        {
          "data": {
            "text/html": [
              "\n",
              "  <div id=\"df-9b6ddc21-25d9-41a8-ab26-805296259c02\">\n",
              "    <div class=\"colab-df-container\">\n",
              "      <div>\n",
              "<style scoped>\n",
              "    .dataframe tbody tr th:only-of-type {\n",
              "        vertical-align: middle;\n",
              "    }\n",
              "\n",
              "    .dataframe tbody tr th {\n",
              "        vertical-align: top;\n",
              "    }\n",
              "\n",
              "    .dataframe thead th {\n",
              "        text-align: right;\n",
              "    }\n",
              "</style>\n",
              "<table border=\"1\" class=\"dataframe\">\n",
              "  <thead>\n",
              "    <tr style=\"text-align: right;\">\n",
              "      <th></th>\n",
              "      <th>answer</th>\n",
              "      <th>question</th>\n",
              "      <th>text</th>\n",
              "    </tr>\n",
              "  </thead>\n",
              "  <tbody>\n",
              "    <tr>\n",
              "      <th>0</th>\n",
              "      <td>&lt;pad&gt; emphysema and chronic bronchitis</td>\n",
              "      <td>What are the symptoms of chronic obstructive p...</td>\n",
              "      <td>chronic obstructive pulmonary disease copd is ...</td>\n",
              "    </tr>\n",
              "    <tr>\n",
              "      <th>1</th>\n",
              "      <td>airflow obstruction</td>\n",
              "      <td>What is the cause of chronic obstructive pulmo...</td>\n",
              "      <td>chronic obstructive pulmonary disease copd is ...</td>\n",
              "    </tr>\n",
              "    <tr>\n",
              "      <th>0</th>\n",
              "      <td>&lt;pad&gt; copd</td>\n",
              "      <td>What is an important contributor to mortality ...</td>\n",
              "      <td>copd is an important contributor to mortality ...</td>\n",
              "    </tr>\n",
              "    <tr>\n",
              "      <th>0</th>\n",
              "      <td>&lt;pad&gt; to reduce activity limitations among adu...</td>\n",
              "      <td>What is the goal of healthy people 2020?</td>\n",
              "      <td>healthy people 2020 has several copdrelated ob...</td>\n",
              "    </tr>\n",
              "    <tr>\n",
              "      <th>0</th>\n",
              "      <td>&lt;pad&gt; 2013</td>\n",
              "      <td>In what year did cdc analyze data from the beh...</td>\n",
              "      <td>to assess the statelevel prevalence of copd an...</td>\n",
              "    </tr>\n",
              "    <tr>\n",
              "      <th>...</th>\n",
              "      <td>...</td>\n",
              "      <td>...</td>\n",
              "      <td>...</td>\n",
              "    </tr>\n",
              "    <tr>\n",
              "      <th>0</th>\n",
              "      <td>&lt;pad&gt; cdc and fda</td>\n",
              "      <td>Who continue to monitor hpvassociated outcomes?</td>\n",
              "      <td>postlicensure monitoring and evaluation by cdc...</td>\n",
              "    </tr>\n",
              "    <tr>\n",
              "      <th>0</th>\n",
              "      <td>&lt;pad&gt; ongoing</td>\n",
              "      <td>What are evaluations ongoing?</td>\n",
              "      <td>evaluations are ongoing</td>\n",
              "    </tr>\n",
              "    <tr>\n",
              "      <th>0</th>\n",
              "      <td>&lt;pad&gt; 214</td>\n",
              "      <td>How many cervical cancer screenings are there?</td>\n",
              "      <td>to date there is no indication replacement wit...</td>\n",
              "    </tr>\n",
              "    <tr>\n",
              "      <th>0</th>\n",
              "      <td>&lt;pad&gt; cervical cancer</td>\n",
              "      <td>What type of cancer does hpv vaccine affect?</td>\n",
              "      <td>evaluation of the impact of hpv vaccination on...</td>\n",
              "    </tr>\n",
              "    <tr>\n",
              "      <th>0</th>\n",
              "      <td>&lt;pad&gt; educating parents</td>\n",
              "      <td>What has been identified to increase consisten...</td>\n",
              "      <td>a variety of needed efforts have been identifi...</td>\n",
              "    </tr>\n",
              "  </tbody>\n",
              "</table>\n",
              "<p>1374 rows × 3 columns</p>\n",
              "</div>\n",
              "      <button class=\"colab-df-convert\" onclick=\"convertToInteractive('df-9b6ddc21-25d9-41a8-ab26-805296259c02')\"\n",
              "              title=\"Convert this dataframe to an interactive table.\"\n",
              "              style=\"display:none;\">\n",
              "        \n",
              "  <svg xmlns=\"http://www.w3.org/2000/svg\" height=\"24px\"viewBox=\"0 0 24 24\"\n",
              "       width=\"24px\">\n",
              "    <path d=\"M0 0h24v24H0V0z\" fill=\"none\"/>\n",
              "    <path d=\"M18.56 5.44l.94 2.06.94-2.06 2.06-.94-2.06-.94-.94-2.06-.94 2.06-2.06.94zm-11 1L8.5 8.5l.94-2.06 2.06-.94-2.06-.94L8.5 2.5l-.94 2.06-2.06.94zm10 10l.94 2.06.94-2.06 2.06-.94-2.06-.94-.94-2.06-.94 2.06-2.06.94z\"/><path d=\"M17.41 7.96l-1.37-1.37c-.4-.4-.92-.59-1.43-.59-.52 0-1.04.2-1.43.59L10.3 9.45l-7.72 7.72c-.78.78-.78 2.05 0 2.83L4 21.41c.39.39.9.59 1.41.59.51 0 1.02-.2 1.41-.59l7.78-7.78 2.81-2.81c.8-.78.8-2.07 0-2.86zM5.41 20L4 18.59l7.72-7.72 1.47 1.35L5.41 20z\"/>\n",
              "  </svg>\n",
              "      </button>\n",
              "      \n",
              "  <style>\n",
              "    .colab-df-container {\n",
              "      display:flex;\n",
              "      flex-wrap:wrap;\n",
              "      gap: 12px;\n",
              "    }\n",
              "\n",
              "    .colab-df-convert {\n",
              "      background-color: #E8F0FE;\n",
              "      border: none;\n",
              "      border-radius: 50%;\n",
              "      cursor: pointer;\n",
              "      display: none;\n",
              "      fill: #1967D2;\n",
              "      height: 32px;\n",
              "      padding: 0 0 0 0;\n",
              "      width: 32px;\n",
              "    }\n",
              "\n",
              "    .colab-df-convert:hover {\n",
              "      background-color: #E2EBFA;\n",
              "      box-shadow: 0px 1px 2px rgba(60, 64, 67, 0.3), 0px 1px 3px 1px rgba(60, 64, 67, 0.15);\n",
              "      fill: #174EA6;\n",
              "    }\n",
              "\n",
              "    [theme=dark] .colab-df-convert {\n",
              "      background-color: #3B4455;\n",
              "      fill: #D2E3FC;\n",
              "    }\n",
              "\n",
              "    [theme=dark] .colab-df-convert:hover {\n",
              "      background-color: #434B5C;\n",
              "      box-shadow: 0px 1px 3px 1px rgba(0, 0, 0, 0.15);\n",
              "      filter: drop-shadow(0px 1px 2px rgba(0, 0, 0, 0.3));\n",
              "      fill: #FFFFFF;\n",
              "    }\n",
              "  </style>\n",
              "\n",
              "      <script>\n",
              "        const buttonEl =\n",
              "          document.querySelector('#df-9b6ddc21-25d9-41a8-ab26-805296259c02 button.colab-df-convert');\n",
              "        buttonEl.style.display =\n",
              "          google.colab.kernel.accessAllowed ? 'block' : 'none';\n",
              "\n",
              "        async function convertToInteractive(key) {\n",
              "          const element = document.querySelector('#df-9b6ddc21-25d9-41a8-ab26-805296259c02');\n",
              "          const dataTable =\n",
              "            await google.colab.kernel.invokeFunction('convertToInteractive',\n",
              "                                                     [key], {});\n",
              "          if (!dataTable) return;\n",
              "\n",
              "          const docLinkHtml = 'Like what you see? Visit the ' +\n",
              "            '<a target=\"_blank\" href=https://colab.research.google.com/notebooks/data_table.ipynb>data table notebook</a>'\n",
              "            + ' to learn more about interactive tables.';\n",
              "          element.innerHTML = '';\n",
              "          dataTable['output_type'] = 'display_data';\n",
              "          await google.colab.output.renderOutput(dataTable, element);\n",
              "          const docLink = document.createElement('div');\n",
              "          docLink.innerHTML = docLinkHtml;\n",
              "          element.appendChild(docLink);\n",
              "        }\n",
              "      </script>\n",
              "    </div>\n",
              "  </div>\n",
              "  "
            ],
            "text/plain": [
              "                                               answer  \\\n",
              "0              <pad> emphysema and chronic bronchitis   \n",
              "1                                 airflow obstruction   \n",
              "0                                          <pad> copd   \n",
              "0   <pad> to reduce activity limitations among adu...   \n",
              "0                                          <pad> 2013   \n",
              "..                                                ...   \n",
              "0                                   <pad> cdc and fda   \n",
              "0                                       <pad> ongoing   \n",
              "0                                           <pad> 214   \n",
              "0                               <pad> cervical cancer   \n",
              "0                             <pad> educating parents   \n",
              "\n",
              "                                             question  \\\n",
              "0   What are the symptoms of chronic obstructive p...   \n",
              "1   What is the cause of chronic obstructive pulmo...   \n",
              "0   What is an important contributor to mortality ...   \n",
              "0            What is the goal of healthy people 2020?   \n",
              "0   In what year did cdc analyze data from the beh...   \n",
              "..                                                ...   \n",
              "0     Who continue to monitor hpvassociated outcomes?   \n",
              "0                       What are evaluations ongoing?   \n",
              "0      How many cervical cancer screenings are there?   \n",
              "0        What type of cancer does hpv vaccine affect?   \n",
              "0   What has been identified to increase consisten...   \n",
              "\n",
              "                                                 text  \n",
              "0   chronic obstructive pulmonary disease copd is ...  \n",
              "1   chronic obstructive pulmonary disease copd is ...  \n",
              "0   copd is an important contributor to mortality ...  \n",
              "0   healthy people 2020 has several copdrelated ob...  \n",
              "0   to assess the statelevel prevalence of copd an...  \n",
              "..                                                ...  \n",
              "0   postlicensure monitoring and evaluation by cdc...  \n",
              "0                             evaluations are ongoing  \n",
              "0   to date there is no indication replacement wit...  \n",
              "0   evaluation of the impact of hpv vaccination on...  \n",
              "0   a variety of needed efforts have been identifi...  \n",
              "\n",
              "[1374 rows x 3 columns]"
            ]
          },
          "execution_count": 108,
          "metadata": {},
          "output_type": "execute_result"
        }
      ],
      "source": [
        "questions_dataset = []\n",
        "for sentences in cleaned_sentences_with_stopwords:\n",
        "  if sentences != '':\n",
        "    df_sentence = pd.DataFrame(nlp(sentences))\n",
        "    df_sentence['text'] = sentences\n",
        "    questions_dataset.append(df_sentence)\n",
        "df_bert_training = pd.concat(questions_dataset)\n",
        "df_bert_training"
      ]
    },
    {
      "cell_type": "code",
      "execution_count": null,
      "metadata": {
        "colab": {
          "background_save": true
        },
        "id": "_yxea47JLyyE"
      },
      "outputs": [],
      "source": [
        "df_bert_training.to_csv('/content/drive/MyDrive/df_bert_train.csv')"
      ]
    }
  ],
  "metadata": {
    "colab": {
      "provenance": [],
      "mount_file_id": "1f7oTnsqzxfD6wpyjJH3zkFCMun1DU9DU",
      "authorship_tag": "ABX9TyPdM4T61KVHRzD3YYtSFCD4",
      "include_colab_link": true
    },
    "kernelspec": {
      "display_name": "Python 3",
      "name": "python3"
    },
    "language_info": {
      "name": "python"
    }
  },
  "nbformat": 4,
  "nbformat_minor": 0
}